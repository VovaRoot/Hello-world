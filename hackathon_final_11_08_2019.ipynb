{
  "nbformat": 4,
  "nbformat_minor": 0,
  "metadata": {
    "colab": {
      "name": "hackathon-final_11.08.2019.ipynb",
      "version": "0.3.2",
      "provenance": [],
      "collapsed_sections": [],
      "toc_visible": true,
      "include_colab_link": true
    },
    "kernelspec": {
      "display_name": "Python 3",
      "language": "python",
      "name": "python3"
    },
    "language_info": {
      "codemirror_mode": {
        "name": "ipython",
        "version": 3
      },
      "file_extension": ".py",
      "mimetype": "text/x-python",
      "name": "python",
      "nbconvert_exporter": "python",
      "pygments_lexer": "ipython3",
      "version": "3.7.1"
    }
  },
  "cells": [
    {
      "cell_type": "markdown",
      "metadata": {
        "id": "view-in-github",
        "colab_type": "text"
      },
      "source": [
        "<a href=\"https://colab.research.google.com/github/VovaRoot/Hello-world/blob/master/hackathon_final_11_08_2019.ipynb\" target=\"_parent\"><img src=\"https://colab.research.google.com/assets/colab-badge.svg\" alt=\"Open In Colab\"/></a>"
      ]
    },
    {
      "cell_type": "markdown",
      "metadata": {
        "colab_type": "text",
        "id": "3byOBDxkWvLs"
      },
      "source": [
        "## Хакатон по распознаванию хот-догов. \n",
        "По мотивам крутейшего стартапа из сериала \"кремниевая долина\"!\n",
        "\n",
        "https://www.youtube.com/watch?v=pqTntG1RXSY\n",
        "\n",
        "\n",
        "Ваша задача: сделать революционный классификатор, который сразил большинство инвесторов и гиков из кремниевой долины не один раз!\n",
        "\n",
        "Точнее, вам необходимо предсказать, есть на изображении хот-дог или нет. В файл с решением необходимо записать вероятность того, что на изображении **есть хот-дог**.\n",
        "\n",
        "Качество модели будет измеряться с помощью метрики AUC-ROC, публичный лидерборд (рейтинговая таблица соревнования на платформе kaggle) будет строиться по 50% наблюдений. \n",
        "\n",
        "Чуть подробнее про публичный и приватный лидерборд: вам дана тестовая выборка, для которой неизвестна целевая переменная. Вы обучаете модель, предсказываете для тестовой выборки, формируете из предсказаний csv-файл, и загружаете его на платформу kaggle. Видите значение метрики AUC-ROC. Это значение называется метрикой на публичном лидерборде, и считается оно не по всем данным, а лишь по 50% от тестовой выборки. Когда соревнование заканчивается, AUC-ROC пересчитывается уже для 100% тестовой выборки, и это уже называется приватный лидерборд, он же - финальный.\n",
        "\n",
        "Такой подход является классическим для большей части соревнований по анализу данных, и основан он на том, что если не делать такого разделения, то будет происходить неявное переобучение модели под тестовую выборку. \n",
        "\n",
        "На этом вводная часть заканчивается, и мы искренне желаем вам удачи :) <br>\n",
        "Сможете ли вы повторить успех Jian Yuang'a? Мы в вас верим!\n",
        "\n",
        "<hr>"
      ]
    },
    {
      "cell_type": "markdown",
      "metadata": {
        "colab_type": "text",
        "id": "ed6Qho_G0Rej"
      },
      "source": [
        "Разархивируем файлы с данными и импортируем необходимые библиотеки"
      ]
    },
    {
      "cell_type": "code",
      "metadata": {
        "id": "4b-hZyhhvNJS",
        "colab_type": "code",
        "colab": {}
      },
      "source": [
        "from google.colab import drive\n",
        "drive.mount('/content/drive')"
      ],
      "execution_count": 0,
      "outputs": []
    },
    {
      "cell_type": "code",
      "metadata": {
        "id": "6HvSr6ypxkv1",
        "colab_type": "code",
        "outputId": "431d8bfe-bf7d-46c8-bfd7-33219e65d33d",
        "colab": {
          "base_uri": "https://localhost:8080/",
          "height": 85
        }
      },
      "source": [
        "\n",
        "!ls \"/content/drive/My Drive\""
      ],
      "execution_count": 2,
      "outputs": [
        {
          "output_type": "stream",
          "text": [
            "'Colab Notebooks'      ml-20m\n",
            " data\t\t      'Договор на проведение тренингов.gdoc'\n",
            "'Google Фото'\t      'Презентация_Клуб инвесторов Саши Гареева.gdoc'\n",
            " hackathon-final.zip\n"
          ],
          "name": "stdout"
        }
      ]
    },
    {
      "cell_type": "code",
      "metadata": {
        "id": "GpfZyn4oMVW4",
        "colab_type": "code",
        "colab": {}
      },
      "source": [
        "import zipfile\n",
        "\n",
        "zip_ref = zipfile.ZipFile(\"/content/drive/My Drive/hackathon-final.zip\", 'r')\n",
        "zip_ref.extractall(\"/tmp\")\n",
        "zip_ref.close()"
      ],
      "execution_count": 0,
      "outputs": []
    },
    {
      "cell_type": "code",
      "metadata": {
        "id": "QmxxdX0MO_2j",
        "colab_type": "code",
        "colab": {
          "base_uri": "https://localhost:8080/",
          "height": 34
        },
        "outputId": "de11ab46-8815-43c8-bb87-6848fa91a737"
      },
      "source": [
        "!ls \"/tmp\""
      ],
      "execution_count": 15,
      "outputs": [
        {
          "output_type": "stream",
          "text": [
            "drivefs_ipc.0  drivefs_ipc.0_shell  hackathon-final.ipynb  test.zip  train.zip\n"
          ],
          "name": "stdout"
        }
      ]
    },
    {
      "cell_type": "code",
      "metadata": {
        "id": "e9fjoaH3PS5s",
        "colab_type": "code",
        "colab": {}
      },
      "source": [
        "zip_ref = zipfile.ZipFile(\"/tmp/test.zip\", 'r')\n",
        "zip_ref.extractall(\"/tmp/test\")\n",
        "zip_ref.close()"
      ],
      "execution_count": 0,
      "outputs": []
    },
    {
      "cell_type": "code",
      "metadata": {
        "id": "vyNLY89KRPeS",
        "colab_type": "code",
        "colab": {}
      },
      "source": [
        "zip_ref = zipfile.ZipFile(\"/tmp/train.zip\", 'r')\n",
        "zip_ref.extractall(\"/tmp/train\")\n",
        "zip_ref.close()"
      ],
      "execution_count": 0,
      "outputs": []
    },
    {
      "cell_type": "code",
      "metadata": {
        "id": "zrruZIc1Q5Fn",
        "colab_type": "code",
        "colab": {}
      },
      "source": [
        ""
      ],
      "execution_count": 0,
      "outputs": []
    },
    {
      "cell_type": "markdown",
      "metadata": {
        "id": "KDsrjAD0LSDG",
        "colab_type": "text"
      },
      "source": [
        "# New Section"
      ]
    },
    {
      "cell_type": "code",
      "metadata": {
        "colab_type": "code",
        "id": "rRWmn5HdWt10",
        "colab": {}
      },
      "source": [
        "import os\n",
        "\n",
        "import numpy as np\n",
        "import pandas as pd\n",
        "\n",
        "from sklearn.metrics import roc_auc_score\n",
        "from sklearn.model_selection import train_test_split\n",
        "from sklearn.ensemble import RandomForestClassifier\n",
        "\n",
        "from matplotlib.image import imread\n",
        "import matplotlib.pyplot as plt\n",
        "%matplotlib inline"
      ],
      "execution_count": 0,
      "outputs": []
    },
    {
      "cell_type": "code",
      "metadata": {
        "id": "NgNZJvXeuEUw",
        "colab_type": "code",
        "colab": {}
      },
      "source": [
        "font = {\n",
        "    'family': 'serif',\n",
        "    'color':  'darkred',\n",
        "    'weight': 'bold',\n",
        "    'size': 22,\n",
        "}"
      ],
      "execution_count": 0,
      "outputs": []
    },
    {
      "cell_type": "markdown",
      "metadata": {
        "colab_type": "text",
        "id": "1LGcIWTC1IGL"
      },
      "source": [
        "Загрузим данные для обучения и лидерборда"
      ]
    },
    {
      "cell_type": "code",
      "metadata": {
        "colab_type": "code",
        "id": "vM4TLEH2Wk6G",
        "colab": {}
      },
      "source": [
        "SEED = 257\n",
        "\n",
        "TRAIN_DIR = '/tmp/train/train'\n",
        "TEST_DIR = '/tmp/test/test'"
      ],
      "execution_count": 0,
      "outputs": []
    },
    {
      "cell_type": "code",
      "metadata": {
        "colab_type": "code",
        "id": "degvzUnp0yp4",
        "colab": {}
      },
      "source": [
        "categories = ['hot dog', 'not hot dog']"
      ],
      "execution_count": 0,
      "outputs": []
    },
    {
      "cell_type": "code",
      "metadata": {
        "colab_type": "code",
        "id": "TeRiKVg4XSCN",
        "colab": {}
      },
      "source": [
        "X, y = [], []\n",
        "\n",
        "for category in categories:\n",
        "    category_dir = os.path.join(TRAIN_DIR, category)\n",
        "    for image_path in os.listdir(category_dir):\n",
        "        X.append(imread(os.path.join(category_dir, image_path)))\n",
        "        y.append(category)"
      ],
      "execution_count": 0,
      "outputs": []
    },
    {
      "cell_type": "markdown",
      "metadata": {
        "colab_type": "text",
        "id": "soIzBhfT6Cyu"
      },
      "source": [
        "Сколько у нас файлов есть для обучения?"
      ]
    },
    {
      "cell_type": "code",
      "metadata": {
        "colab_type": "code",
        "id": "8X9aKGXmY8bi",
        "outputId": "4c01c875-810c-423c-ec66-06dabe233eda",
        "colab": {
          "base_uri": "https://localhost:8080/",
          "height": 34
        }
      },
      "source": [
        "len(X), len(y)"
      ],
      "execution_count": 28,
      "outputs": [
        {
          "output_type": "execute_result",
          "data": {
            "text/plain": [
              "(10049, 10049)"
            ]
          },
          "metadata": {
            "tags": []
          },
          "execution_count": 28
        }
      ]
    },
    {
      "cell_type": "markdown",
      "metadata": {
        "colab_type": "text",
        "id": "XeIsli396E6t"
      },
      "source": [
        "Имеем картинки 100х100 пикселей в трех измерения (RGB - red, green, blue)"
      ]
    },
    {
      "cell_type": "code",
      "metadata": {
        "colab_type": "code",
        "id": "xsFJ-frCY97C",
        "outputId": "29343e20-8474-4cc5-8404-9ff2d3b49fd9",
        "colab": {
          "base_uri": "https://localhost:8080/",
          "height": 850
        }
      },
      "source": [
        "X[0]"
      ],
      "execution_count": 29,
      "outputs": [
        {
          "output_type": "execute_result",
          "data": {
            "text/plain": [
              "array([[[0.9647059 , 0.9647059 , 0.9647059 ],\n",
              "        [0.9647059 , 0.9647059 , 0.9647059 ],\n",
              "        [0.9647059 , 0.9647059 , 0.9647059 ],\n",
              "        ...,\n",
              "        [0.9647059 , 0.9647059 , 0.9647059 ],\n",
              "        [0.9647059 , 0.9647059 , 0.9647059 ],\n",
              "        [0.9647059 , 0.9647059 , 0.9647059 ]],\n",
              "\n",
              "       [[0.9647059 , 0.9647059 , 0.9647059 ],\n",
              "        [0.9647059 , 0.9647059 , 0.9647059 ],\n",
              "        [0.9647059 , 0.9647059 , 0.9647059 ],\n",
              "        ...,\n",
              "        [0.9647059 , 0.9647059 , 0.9647059 ],\n",
              "        [0.9647059 , 0.9647059 , 0.9647059 ],\n",
              "        [0.9647059 , 0.9647059 , 0.9647059 ]],\n",
              "\n",
              "       [[0.9647059 , 0.9647059 , 0.9647059 ],\n",
              "        [0.9647059 , 0.9647059 , 0.9647059 ],\n",
              "        [0.9647059 , 0.9647059 , 0.9647059 ],\n",
              "        ...,\n",
              "        [0.9647059 , 0.9647059 , 0.9647059 ],\n",
              "        [0.9647059 , 0.9647059 , 0.9647059 ],\n",
              "        [0.9647059 , 0.9647059 , 0.9647059 ]],\n",
              "\n",
              "       ...,\n",
              "\n",
              "       [[0.9647059 , 0.95686275, 0.96862745],\n",
              "        [0.9647059 , 0.95686275, 0.96862745],\n",
              "        [0.9647059 , 0.95686275, 0.96862745],\n",
              "        ...,\n",
              "        [0.96862745, 0.9607843 , 0.9647059 ],\n",
              "        [0.96862745, 0.9607843 , 0.9647059 ],\n",
              "        [0.96862745, 0.9607843 , 0.9647059 ]],\n",
              "\n",
              "       [[0.9647059 , 0.95686275, 0.96862745],\n",
              "        [0.9647059 , 0.95686275, 0.96862745],\n",
              "        [0.9647059 , 0.95686275, 0.96862745],\n",
              "        ...,\n",
              "        [0.96862745, 0.9607843 , 0.9647059 ],\n",
              "        [0.96862745, 0.9607843 , 0.9647059 ],\n",
              "        [0.96862745, 0.9607843 , 0.9647059 ]],\n",
              "\n",
              "       [[0.9647059 , 0.95686275, 0.96862745],\n",
              "        [0.9647059 , 0.95686275, 0.96862745],\n",
              "        [0.9647059 , 0.95686275, 0.96862745],\n",
              "        ...,\n",
              "        [0.96862745, 0.9607843 , 0.9647059 ],\n",
              "        [0.96862745, 0.9607843 , 0.9647059 ],\n",
              "        [0.96862745, 0.9607843 , 0.9647059 ]]], dtype=float32)"
            ]
          },
          "metadata": {
            "tags": []
          },
          "execution_count": 29
        }
      ]
    },
    {
      "cell_type": "markdown",
      "metadata": {
        "colab_type": "text",
        "id": "8jrpYGFW4nO9"
      },
      "source": [
        "Посмотрим немного на примеры из обучающей выборки (лучше делать это сытым)"
      ]
    },
    {
      "cell_type": "code",
      "metadata": {
        "colab_type": "code",
        "id": "3BlRjrCHY-4V",
        "outputId": "0e6875cd-0a9a-451f-8484-8c743d76a04d",
        "colab": {
          "base_uri": "https://localhost:8080/",
          "height": 268
        }
      },
      "source": [
        "plt.axis(\"off\");\n",
        "plt.imshow(X[0]);"
      ],
      "execution_count": 30,
      "outputs": [
        {
          "output_type": "display_data",
          "data": {
            "image/png": "[encoded data removed]",
            "text/plain": [
              "<Figure size 432x288 with 1 Axes>"
            ]
          },
          "metadata": {
            "tags": []
          }
        }
      ]
    },
    {
      "cell_type": "code",
      "metadata": {
        "colab_type": "code",
        "id": "jp9yB-Fe4ftU",
        "outputId": "5abd0beb-014b-46a8-de31-961d2ab44741",
        "colab": {
          "base_uri": "https://localhost:8080/",
          "height": 268
        }
      },
      "source": [
        "plt.axis(\"off\");\n",
        "plt.imshow(X[-1]);"
      ],
      "execution_count": 31,
      "outputs": [
        {
          "output_type": "display_data",
          "data": {
            "image/png": "[encoded data removed]",
            "text/plain": [
              "<Figure size 432x288 with 1 Axes>"
            ]
          },
          "metadata": {
            "tags": []
          }
        }
      ]
    },
    {
      "cell_type": "markdown",
      "metadata": {
        "colab_type": "text",
        "id": "8GrUE5Ft1ptD"
      },
      "source": [
        "Разделим данные на обучающую и тестовую выборки"
      ]
    },
    {
      "cell_type": "code",
      "metadata": {
        "colab_type": "code",
        "id": "_fVmaB6OpN8t",
        "colab": {}
      },
      "source": [
        "y = [1 if x == 'hot dog' else 0 for x in y]"
      ],
      "execution_count": 0,
      "outputs": []
    },
    {
      "cell_type": "code",
      "metadata": {
        "colab_type": "code",
        "id": "3HncqpujdgJZ",
        "colab": {}
      },
      "source": [
        "X_train, X_test, y_train, y_test = train_test_split(np.array(X), np.array(y), test_size=0.25, random_state=SEED)"
      ],
      "execution_count": 0,
      "outputs": []
    },
    {
      "cell_type": "code",
      "metadata": {
        "colab_type": "code",
        "id": "0CrgJKdTdlpq",
        "outputId": "4c3ccd95-44d5-4a66-d47b-06bbd2be95c2",
        "colab": {
          "base_uri": "https://localhost:8080/",
          "height": 34
        }
      },
      "source": [
        "X_train.shape, X_test.shape, y_train.shape, y_test.shape"
      ],
      "execution_count": 34,
      "outputs": [
        {
          "output_type": "execute_result",
          "data": {
            "text/plain": [
              "((7536, 100, 100, 3), (2513, 100, 100, 3), (7536,), (2513,))"
            ]
          },
          "metadata": {
            "tags": []
          },
          "execution_count": 34
        }
      ]
    },
    {
      "cell_type": "markdown",
      "metadata": {
        "id": "Y2gX2YGluEVL",
        "colab_type": "text"
      },
      "source": [
        "Построим очень простой классификатор, который будем считать за baseline. Преобразуем наши изображения следующим образом: для каждой картинки посчитаем среднее значение по каждому каналу (red, green, blue). Теперь в качестве признаков, описывающих объект, будет использовать просто три средних, вместо всего набора пикселей. "
      ]
    },
    {
      "cell_type": "code",
      "metadata": {
        "id": "56H4JEG1Uv13",
        "colab_type": "code",
        "colab": {}
      },
      "source": [
        "X_train_simplify = []\n",
        "X_test_simplify = []"
      ],
      "execution_count": 0,
      "outputs": []
    },
    {
      "cell_type": "code",
      "metadata": {
        "id": "1DGsOe2wUysM",
        "colab_type": "code",
        "colab": {}
      },
      "source": [
        "for x in X_train:\n",
        "    X_train_simplify.append(np.mean(x.reshape(100*100, 3), axis=0))\n",
        "\n",
        "for x in X_test:\n",
        "    X_test_simplify.append(np.mean(x.reshape(100*100, 3), axis=0))"
      ],
      "execution_count": 0,
      "outputs": []
    },
    {
      "cell_type": "code",
      "metadata": {
        "id": "kc_51S-IU20K",
        "colab_type": "code",
        "colab": {}
      },
      "source": [
        "X_train_simplify = np.array(X_train_simplify) \n",
        "X_test_simplify = np.array(X_test_simplify)"
      ],
      "execution_count": 0,
      "outputs": []
    },
    {
      "cell_type": "markdown",
      "metadata": {
        "id": "68X8LaYRVFmw",
        "colab_type": "text"
      },
      "source": [
        "Получили обучающую выборку, в которой каждый объект представлен всего 3-мя признаками."
      ]
    },
    {
      "cell_type": "code",
      "metadata": {
        "id": "U6tRJYlwVLVc",
        "colab_type": "code",
        "colab": {
          "base_uri": "https://localhost:8080/",
          "height": 34
        },
        "outputId": "5bbff7bf-c534-4071-9ccb-0a3e1b1893cd"
      },
      "source": [
        "X_train_simplify.shape, X_test_simplify.shape"
      ],
      "execution_count": 47,
      "outputs": [
        {
          "output_type": "execute_result",
          "data": {
            "text/plain": [
              "((7536, 3), (2513, 3))"
            ]
          },
          "metadata": {
            "tags": []
          },
          "execution_count": 47
        }
      ]
    },
    {
      "cell_type": "markdown",
      "metadata": {
        "id": "MOTT4kNJVT5s",
        "colab_type": "text"
      },
      "source": [
        "Обучим модель и посмотрим на целевую метрику (ROC AUC)"
      ]
    },
    {
      "cell_type": "code",
      "metadata": {
        "id": "FI_QEO8WVXcj",
        "colab_type": "code",
        "colab": {
          "base_uri": "https://localhost:8080/",
          "height": 136
        },
        "outputId": "fc28f0b1-4f8f-46bf-c5cb-70a8c588b5c9"
      },
      "source": [
        "random_forest = RandomForestClassifier(n_estimators=100, random_state=SEED)\n",
        "random_forest.fit(X_train_simplify, y_train)"
      ],
      "execution_count": 48,
      "outputs": [
        {
          "output_type": "execute_result",
          "data": {
            "text/plain": [
              "RandomForestClassifier(bootstrap=True, class_weight=None, criterion='gini',\n",
              "                       max_depth=None, max_features='auto', max_leaf_nodes=None,\n",
              "                       min_impurity_decrease=0.0, min_impurity_split=None,\n",
              "                       min_samples_leaf=1, min_samples_split=2,\n",
              "                       min_weight_fraction_leaf=0.0, n_estimators=100,\n",
              "                       n_jobs=None, oob_score=False, random_state=257,\n",
              "                       verbose=0, warm_start=False)"
            ]
          },
          "metadata": {
            "tags": []
          },
          "execution_count": 48
        }
      ]
    },
    {
      "cell_type": "code",
      "metadata": {
        "id": "0emp0hv0VxVT",
        "colab_type": "code",
        "colab": {
          "base_uri": "https://localhost:8080/",
          "height": 34
        },
        "outputId": "69c79734-dc27-4d34-d401-6442397586d1"
      },
      "source": [
        "from keras.models import Sequential\n",
        "from keras.layers import Convolution2D, MaxPooling2D,  Flatten, Dropout, Dense\n",
        "from keras.preprocessing.image import ImageDataGenerator"
      ],
      "execution_count": 51,
      "outputs": [
        {
          "output_type": "stream",
          "text": [
            "Using TensorFlow backend.\n"
          ],
          "name": "stderr"
        }
      ]
    },
    {
      "cell_type": "code",
      "metadata": {
        "id": "aklZnk_xVndf",
        "colab_type": "code",
        "colab": {
          "base_uri": "https://localhost:8080/",
          "height": 513
        },
        "outputId": "9c61a68c-117b-452b-d220-72d534f01a98"
      },
      "source": [
        "model = Sequential()\n",
        "model.add(Convolution2D(64, kernel_size=3, activation='relu'))\n",
        "model.add(MaxPooling2D(pool_size=2))\n",
        "model.add(Convolution2D(32, kernel_size=3, activation='relu'))\n",
        "model.add(MaxPooling2D(pool_size=2))\n",
        "model.add(Flatten())\n",
        "model.add(Dropout(0.5))\n",
        "model.add(Dense(1, activation='sigmoid'))\n",
        "model.compile(optimizer='adam', class_mode=\"binary\", loss='binary_crossentropy', metrics=['accuracy'])\n",
        "model.fit(X_train, y_train, batch_size=32, epochs=3)\n",
        "\n"
      ],
      "execution_count": 52,
      "outputs": [
        {
          "output_type": "stream",
          "text": [
            "WARNING: Logging before flag parsing goes to stderr.\n",
            "W0812 19:38:54.997199 140035208972160 deprecation_wrapper.py:119] From /usr/local/lib/python3.6/dist-packages/keras/backend/tensorflow_backend.py:74: The name tf.get_default_graph is deprecated. Please use tf.compat.v1.get_default_graph instead.\n",
            "\n",
            "W0812 19:38:55.049601 140035208972160 deprecation_wrapper.py:119] From /usr/local/lib/python3.6/dist-packages/keras/optimizers.py:790: The name tf.train.Optimizer is deprecated. Please use tf.compat.v1.train.Optimizer instead.\n",
            "\n",
            "W0812 19:38:55.077520 140035208972160 deprecation_wrapper.py:119] From /usr/local/lib/python3.6/dist-packages/keras/backend/tensorflow_backend.py:517: The name tf.placeholder is deprecated. Please use tf.compat.v1.placeholder instead.\n",
            "\n",
            "W0812 19:38:55.082687 140035208972160 deprecation_wrapper.py:119] From /usr/local/lib/python3.6/dist-packages/keras/backend/tensorflow_backend.py:4138: The name tf.random_uniform is deprecated. Please use tf.random.uniform instead.\n",
            "\n",
            "W0812 19:38:55.148507 140035208972160 deprecation_wrapper.py:119] From /usr/local/lib/python3.6/dist-packages/keras/backend/tensorflow_backend.py:3976: The name tf.nn.max_pool is deprecated. Please use tf.nn.max_pool2d instead.\n",
            "\n",
            "W0812 19:38:55.182618 140035208972160 deprecation_wrapper.py:119] From /usr/local/lib/python3.6/dist-packages/keras/backend/tensorflow_backend.py:133: The name tf.placeholder_with_default is deprecated. Please use tf.compat.v1.placeholder_with_default instead.\n",
            "\n",
            "W0812 19:38:55.195674 140035208972160 deprecation.py:506] From /usr/local/lib/python3.6/dist-packages/keras/backend/tensorflow_backend.py:3445: calling dropout (from tensorflow.python.ops.nn_ops) with keep_prob is deprecated and will be removed in a future version.\n",
            "Instructions for updating:\n",
            "Please use `rate` instead of `keep_prob`. Rate should be set to `rate = 1 - keep_prob`.\n",
            "W0812 19:38:55.238291 140035208972160 deprecation_wrapper.py:119] From /usr/local/lib/python3.6/dist-packages/keras/backend/tensorflow_backend.py:3376: The name tf.log is deprecated. Please use tf.math.log instead.\n",
            "\n",
            "W0812 19:38:55.246721 140035208972160 deprecation.py:323] From /usr/local/lib/python3.6/dist-packages/tensorflow/python/ops/nn_impl.py:180: add_dispatch_support.<locals>.wrapper (from tensorflow.python.ops.array_ops) is deprecated and will be removed in a future version.\n",
            "Instructions for updating:\n",
            "Use tf.where in 2.0, which has the same broadcast rule as np.where\n"
          ],
          "name": "stderr"
        },
        {
          "output_type": "stream",
          "text": [
            "Epoch 1/3\n",
            "7536/7536 [==============================] - 131s 17ms/step - loss: 0.3870 - acc: 0.8738\n",
            "Epoch 2/3\n",
            "7536/7536 [==============================] - 130s 17ms/step - loss: 0.3394 - acc: 0.8763\n",
            "Epoch 3/3\n",
            "7536/7536 [==============================] - 128s 17ms/step - loss: 0.3113 - acc: 0.8850\n"
          ],
          "name": "stdout"
        },
        {
          "output_type": "execute_result",
          "data": {
            "text/plain": [
              "<keras.callbacks.History at 0x7f5c34216cf8>"
            ]
          },
          "metadata": {
            "tags": []
          },
          "execution_count": 52
        }
      ]
    },
    {
      "cell_type": "code",
      "metadata": {
        "id": "7hwgEvePVbkr",
        "colab_type": "code",
        "colab": {}
      },
      "source": [
        "roc_auc_score(y_test, model.predict_proba(X_test_simplify)[:,1])"
      ],
      "execution_count": 0,
      "outputs": []
    },
    {
      "cell_type": "code",
      "metadata": {
        "id": "BqKd73iLZiTE",
        "colab_type": "code",
        "colab": {
          "base_uri": "https://localhost:8080/",
          "height": 768
        },
        "outputId": "f09968cf-09d3-4965-ca69-aff67e231199"
      },
      "source": [
        "import tensorflow as tf\n",
        "from tensorflow.keras.preprocessing.image import ImageDataGenerator\n",
        "BS = 32\n",
        "IMG_SHAPE = 100\n",
        "aug = ImageDataGenerator(\n",
        "   featurewise_center=True,\n",
        "   featurewise_std_normalization=True,\n",
        "   rotation_range=20,\n",
        "   width_shift_range=0.2,\n",
        "   height_shift_range=0.2,\n",
        "   horizontal_flip=True)\n",
        "from tensorflow.keras.models import Sequential\n",
        "from tensorflow.keras.layers import Convolution2D\n",
        "from tensorflow.keras.layers import MaxPooling2D\n",
        "from tensorflow.keras.layers import Flatten\n",
        "from tensorflow.keras.layers import Dropout\n",
        "from tensorflow.keras.layers import Dense\n",
        "model = Sequential()\n",
        "model.add(Convolution2D(32, kernel_size=3, activation='relu'))\n",
        "model.add(MaxPooling2D(pool_size=2))\n",
        "model.add(Convolution2D(64, kernel_size=3, activation='relu'))\n",
        "model.add(MaxPooling2D(pool_size=2))\n",
        "model.add(Convolution2D(128, kernel_size=3, activation='relu'))\n",
        "model.add(MaxPooling2D(pool_size=2))\n",
        "model.add(Flatten())\n",
        "model.add(Dropout(0.5))\n",
        "model.add(Dense(1, activation='sigmoid'))\n",
        "model.compile(optimizer='adam', class_mode=\"binary\", loss='binary_crossentropy', metrics=['accuracy'])\n",
        "model.fit_generator(aug.flow(X_train, y_train, batch_size=BS),\n",
        "validation_data=(X_test, y_test),\n",
        "steps_per_epoch=len(X_train) // BS, epochs=30)\n",
        "predictions = model.predict_proba(X_test)\n",
        "print('Accuracy: {}'.format(roc_auc_score(y_true=y_test, y_score=predictions)))"
      ],
      "execution_count": 0,
      "outputs": [
        {
          "output_type": "stream",
          "text": [
            "W0812 19:55:43.401501 140035208972160 deprecation.py:506] From /usr/local/lib/python3.6/dist-packages/tensorflow/python/ops/init_ops.py:1251: calling VarianceScaling.__init__ (from tensorflow.python.ops.init_ops) with dtype is deprecated and will be removed in a future version.\n",
            "Instructions for updating:\n",
            "Call initializer instance with the dtype argument instead of passing it to the constructor\n",
            "/usr/local/lib/python3.6/dist-packages/keras_preprocessing/image/image_data_generator.py:716: UserWarning: This ImageDataGenerator specifies `featurewise_center`, but it hasn't been fit on any training data. Fit it first by calling `.fit(numpy_data)`.\n",
            "  warnings.warn('This ImageDataGenerator specifies '\n",
            "/usr/local/lib/python3.6/dist-packages/keras_preprocessing/image/image_data_generator.py:724: UserWarning: This ImageDataGenerator specifies `featurewise_std_normalization`, but it hasn't been fit on any training data. Fit it first by calling `.fit(numpy_data)`.\n",
            "  warnings.warn('This ImageDataGenerator specifies '\n"
          ],
          "name": "stderr"
        },
        {
          "output_type": "stream",
          "text": [
            "Epoch 1/30\n"
          ],
          "name": "stdout"
        },
        {
          "output_type": "stream",
          "text": [
            "/usr/local/lib/python3.6/dist-packages/keras_preprocessing/image/image_data_generator.py:716: UserWarning: This ImageDataGenerator specifies `featurewise_center`, but it hasn't been fit on any training data. Fit it first by calling `.fit(numpy_data)`.\n",
            "  warnings.warn('This ImageDataGenerator specifies '\n",
            "/usr/local/lib/python3.6/dist-packages/keras_preprocessing/image/image_data_generator.py:724: UserWarning: This ImageDataGenerator specifies `featurewise_std_normalization`, but it hasn't been fit on any training data. Fit it first by calling `.fit(numpy_data)`.\n",
            "  warnings.warn('This ImageDataGenerator specifies '\n"
          ],
          "name": "stderr"
        },
        {
          "output_type": "stream",
          "text": [
            "235/235 [==============================] - 150s 638ms/step - loss: 0.3868 - acc: 0.8528 - val_loss: 0.3991 - val_acc: 0.8794\n",
            "Epoch 2/30\n",
            "235/235 [==============================] - 150s 636ms/step - loss: 0.3650 - acc: 0.8720 - val_loss: 0.3712 - val_acc: 0.8794\n",
            "Epoch 3/30\n",
            "235/235 [==============================] - 148s 631ms/step - loss: 0.3515 - acc: 0.8764 - val_loss: 0.3450 - val_acc: 0.8802\n",
            "Epoch 4/30\n",
            "235/235 [==============================] - 151s 642ms/step - loss: 0.3359 - acc: 0.8755 - val_loss: 0.3083 - val_acc: 0.8862\n",
            "Epoch 5/30\n",
            "235/235 [==============================] - 151s 642ms/step - loss: 0.3191 - acc: 0.8878 - val_loss: 0.2799 - val_acc: 0.8965\n",
            "Epoch 6/30\n",
            "235/235 [==============================] - 150s 638ms/step - loss: 0.3093 - acc: 0.8857 - val_loss: 0.2584 - val_acc: 0.9105\n",
            "Epoch 7/30\n",
            "235/235 [==============================] - 149s 634ms/step - loss: 0.3017 - acc: 0.8924 - val_loss: 0.3256 - val_acc: 0.8945\n",
            "Epoch 8/30\n",
            "235/235 [==============================] - 149s 636ms/step - loss: 0.2943 - acc: 0.8867 - val_loss: 0.3079 - val_acc: 0.8981\n",
            "Epoch 9/30\n",
            "235/235 [==============================] - 149s 632ms/step - loss: 0.2787 - acc: 0.9039 - val_loss: 0.2300 - val_acc: 0.9160\n",
            "Epoch 10/30\n",
            "235/235 [==============================] - 146s 620ms/step - loss: 0.2777 - acc: 0.8958 - val_loss: 0.2808 - val_acc: 0.9001\n",
            "Epoch 11/30\n",
            "235/235 [==============================] - 148s 629ms/step - loss: 0.2768 - acc: 0.8906 - val_loss: 0.2378 - val_acc: 0.9164\n",
            "Epoch 12/30\n",
            "235/235 [==============================] - 148s 630ms/step - loss: 0.2584 - acc: 0.9131 - val_loss: 0.2291 - val_acc: 0.9136\n",
            "Epoch 13/30\n",
            "235/235 [==============================] - 149s 632ms/step - loss: 0.2633 - acc: 0.8998 - val_loss: 0.2344 - val_acc: 0.9133\n",
            "Epoch 14/30\n",
            "235/235 [==============================] - 149s 633ms/step - loss: 0.2496 - acc: 0.9111 - val_loss: 0.2367 - val_acc: 0.9133\n",
            "Epoch 15/30\n",
            "235/235 [==============================] - 149s 636ms/step - loss: 0.2544 - acc: 0.9034 - val_loss: 0.2532 - val_acc: 0.9113\n",
            "Epoch 16/30\n",
            "234/235 [============================>.] - ETA: 0s - loss: 0.2452 - acc: 0.9106"
          ],
          "name": "stdout"
        }
      ]
    },
    {
      "cell_type": "markdown",
      "metadata": {
        "colab_type": "text",
        "id": "XmVAmisH107e"
      },
      "source": [
        "### Сформируем файл с предсказаниями"
      ]
    },
    {
      "cell_type": "code",
      "metadata": {
        "colab_type": "code",
        "id": "2CDcPvYh10KT",
        "colab": {}
      },
      "source": [
        "leaderboard_X = []\n",
        "leaderboard_filenames = []"
      ],
      "execution_count": 0,
      "outputs": []
    },
    {
      "cell_type": "code",
      "metadata": {
        "colab_type": "code",
        "id": "M8MdY9CR10Hf",
        "colab": {}
      },
      "source": [
        "for image_path in os.listdir(TEST_DIR):\n",
        "    leaderboard_X.append(imread(os.path.join(TEST_DIR, image_path)))\n",
        "    leaderboard_filenames.append(image_path)"
      ],
      "execution_count": 0,
      "outputs": []
    },
    {
      "cell_type": "markdown",
      "metadata": {
        "colab_type": "text",
        "id": "eQNB-T0m5ZlK"
      },
      "source": [
        "Глянем, что тут у нас вкусного в выборке для leaderboard?"
      ]
    },
    {
      "cell_type": "code",
      "metadata": {
        "colab_type": "code",
        "id": "jSZn9-Rh4ZeW",
        "outputId": "28b5eec4-23a7-4cb0-8648-acfd5f504e89",
        "colab": {
          "base_uri": "https://localhost:8080/",
          "height": 268
        }
      },
      "source": [
        "plt.axis(\"off\");\n",
        "plt.imshow(leaderboard_X[0]);"
      ],
      "execution_count": 40,
      "outputs": [
        {
          "output_type": "display_data",
          "data": {
            "image/png": "[encoded data removed]",
            "text/plain": [
              "<Figure size 432x288 with 1 Axes>"
            ]
          },
          "metadata": {
            "tags": []
          }
        }
      ]
    },
    {
      "cell_type": "code",
      "metadata": {
        "colab_type": "code",
        "id": "jKlB2ZH02XZm",
        "outputId": "8d86edea-5fdf-47a1-e3ae-7ec262e12841",
        "colab": {
          "base_uri": "https://localhost:8080/",
          "height": 34
        }
      },
      "source": [
        "print(leaderboard_X[0].shape, leaderboard_filenames[0])"
      ],
      "execution_count": 41,
      "outputs": [
        {
          "output_type": "stream",
          "text": [
            "(100, 100, 3) 05ec587ca98cc4396ca1bdc2267feaa807c345325294d4f11caca3bdadddde27.png\n"
          ],
          "name": "stdout"
        }
      ]
    },
    {
      "cell_type": "code",
      "metadata": {
        "colab_type": "code",
        "id": "5ltYYjD32xuF",
        "colab": {
          "base_uri": "https://localhost:8080/",
          "height": 215
        },
        "outputId": "ace4cf68-7c13-40fa-ce41-fc0f6c9de2de"
      },
      "source": [
        "leadeboard_predictions = []\n",
        "\n",
        "for x in leaderboard_X:\n",
        "    leadeboard_predictions.append(\n",
        "        random_forest.predict_proba([np.mean(x.reshape(100*100, 3), axis=0)])[:,1][0]\n",
        "    )"
      ],
      "execution_count": 42,
      "outputs": [
        {
          "output_type": "error",
          "ename": "NameError",
          "evalue": "ignored",
          "traceback": [
            "\u001b[0;31m---------------------------------------------------------------------------\u001b[0m",
            "\u001b[0;31mNameError\u001b[0m                                 Traceback (most recent call last)",
            "\u001b[0;32m<ipython-input-42-a4b6554c7090>\u001b[0m in \u001b[0;36m<module>\u001b[0;34m()\u001b[0m\n\u001b[1;32m      3\u001b[0m \u001b[0;32mfor\u001b[0m \u001b[0mx\u001b[0m \u001b[0;32min\u001b[0m \u001b[0mleaderboard_X\u001b[0m\u001b[0;34m:\u001b[0m\u001b[0;34m\u001b[0m\u001b[0;34m\u001b[0m\u001b[0m\n\u001b[1;32m      4\u001b[0m     leadeboard_predictions.append(\n\u001b[0;32m----> 5\u001b[0;31m         \u001b[0mrandom_forest\u001b[0m\u001b[0;34m.\u001b[0m\u001b[0mpredict_proba\u001b[0m\u001b[0;34m(\u001b[0m\u001b[0;34m[\u001b[0m\u001b[0mnp\u001b[0m\u001b[0;34m.\u001b[0m\u001b[0mmean\u001b[0m\u001b[0;34m(\u001b[0m\u001b[0mx\u001b[0m\u001b[0;34m.\u001b[0m\u001b[0mreshape\u001b[0m\u001b[0;34m(\u001b[0m\u001b[0;36m100\u001b[0m\u001b[0;34m*\u001b[0m\u001b[0;36m100\u001b[0m\u001b[0;34m,\u001b[0m \u001b[0;36m3\u001b[0m\u001b[0;34m)\u001b[0m\u001b[0;34m,\u001b[0m \u001b[0maxis\u001b[0m\u001b[0;34m=\u001b[0m\u001b[0;36m0\u001b[0m\u001b[0;34m)\u001b[0m\u001b[0;34m]\u001b[0m\u001b[0;34m)\u001b[0m\u001b[0;34m[\u001b[0m\u001b[0;34m:\u001b[0m\u001b[0;34m,\u001b[0m\u001b[0;36m1\u001b[0m\u001b[0;34m]\u001b[0m\u001b[0;34m[\u001b[0m\u001b[0;36m0\u001b[0m\u001b[0;34m]\u001b[0m\u001b[0;34m\u001b[0m\u001b[0;34m\u001b[0m\u001b[0m\n\u001b[0m\u001b[1;32m      6\u001b[0m     )\n",
            "\u001b[0;31mNameError\u001b[0m: name 'random_forest' is not defined"
          ]
        }
      ]
    },
    {
      "cell_type": "markdown",
      "metadata": {
        "id": "pIv64IIiuEVa",
        "colab_type": "text"
      },
      "source": [
        "Посмотрим, как бы работало наше приложение :)<br>\n",
        "Вы можете менять значение переменной ```idx```, и смотреть, что предсказывает модель на различных изображениях."
      ]
    },
    {
      "cell_type": "code",
      "metadata": {
        "id": "LLVnCh6GuEVb",
        "colab_type": "code",
        "outputId": "7ad1a5e3-cb2e-478b-e700-9b2d12cc4237",
        "colab": {
          "base_uri": "https://localhost:8080/",
          "height": 484
        }
      },
      "source": [
        "idx = 520\n",
        "\n",
        "plt.axis(\"off\");\n",
        "if leadeboard_predictions[idx] > 0.5:\n",
        "    plt.text(20, -5, 'HOT DOG!!!', fontdict=font)\n",
        "else:\n",
        "    plt.text(15, -5,'not hot dog...', fontdict=font)\n",
        "plt.imshow(leaderboard_X[idx]);"
      ],
      "execution_count": 43,
      "outputs": [
        {
          "output_type": "error",
          "ename": "IndexError",
          "evalue": "ignored",
          "traceback": [
            "\u001b[0;31m---------------------------------------------------------------------------\u001b[0m",
            "\u001b[0;31mIndexError\u001b[0m                                Traceback (most recent call last)",
            "\u001b[0;32m<ipython-input-43-f52a771b6d45>\u001b[0m in \u001b[0;36m<module>\u001b[0;34m()\u001b[0m\n\u001b[1;32m      2\u001b[0m \u001b[0;34m\u001b[0m\u001b[0m\n\u001b[1;32m      3\u001b[0m \u001b[0mplt\u001b[0m\u001b[0;34m.\u001b[0m\u001b[0maxis\u001b[0m\u001b[0;34m(\u001b[0m\u001b[0;34m\"off\"\u001b[0m\u001b[0;34m)\u001b[0m\u001b[0;34m;\u001b[0m\u001b[0;34m\u001b[0m\u001b[0;34m\u001b[0m\u001b[0m\n\u001b[0;32m----> 4\u001b[0;31m \u001b[0;32mif\u001b[0m \u001b[0mleadeboard_predictions\u001b[0m\u001b[0;34m[\u001b[0m\u001b[0midx\u001b[0m\u001b[0;34m]\u001b[0m \u001b[0;34m>\u001b[0m \u001b[0;36m0.5\u001b[0m\u001b[0;34m:\u001b[0m\u001b[0;34m\u001b[0m\u001b[0;34m\u001b[0m\u001b[0m\n\u001b[0m\u001b[1;32m      5\u001b[0m     \u001b[0mplt\u001b[0m\u001b[0;34m.\u001b[0m\u001b[0mtext\u001b[0m\u001b[0;34m(\u001b[0m\u001b[0;36m20\u001b[0m\u001b[0;34m,\u001b[0m \u001b[0;34m-\u001b[0m\u001b[0;36m5\u001b[0m\u001b[0;34m,\u001b[0m \u001b[0;34m'HOT DOG!!!'\u001b[0m\u001b[0;34m,\u001b[0m \u001b[0mfontdict\u001b[0m\u001b[0;34m=\u001b[0m\u001b[0mfont\u001b[0m\u001b[0;34m)\u001b[0m\u001b[0;34m\u001b[0m\u001b[0;34m\u001b[0m\u001b[0m\n\u001b[1;32m      6\u001b[0m \u001b[0;32melse\u001b[0m\u001b[0;34m:\u001b[0m\u001b[0;34m\u001b[0m\u001b[0;34m\u001b[0m\u001b[0m\n",
            "\u001b[0;31mIndexError\u001b[0m: list index out of range"
          ]
        },
        {
          "output_type": "display_data",
          "data": {
            "image/png": "[encoded data removed]",
            "text/plain": [
              "<Figure size 432x288 with 1 Axes>"
            ]
          },
          "metadata": {
            "tags": []
          }
        }
      ]
    },
    {
      "cell_type": "markdown",
      "metadata": {
        "colab_type": "text",
        "id": "vKI5o2EP5h2b"
      },
      "source": [
        "Формируем DataFrame, содержащий наше решение"
      ]
    },
    {
      "cell_type": "code",
      "metadata": {
        "colab_type": "code",
        "id": "k1SGdN7e2YwK",
        "colab": {}
      },
      "source": [
        "submission = pd.DataFrame(\n",
        "    {\n",
        "        'image_id': leaderboard_filenames, \n",
        "        'image_hot_dog_probability': leadeboard_predictions\n",
        "    }\n",
        ")"
      ],
      "execution_count": 0,
      "outputs": []
    },
    {
      "cell_type": "code",
      "metadata": {
        "colab_type": "code",
        "id": "jq7STMwF5kn3",
        "colab": {}
      },
      "source": [
        "submission.head()"
      ],
      "execution_count": 0,
      "outputs": []
    },
    {
      "cell_type": "markdown",
      "metadata": {
        "colab_type": "text",
        "id": "IeHp0QEN3ED0"
      },
      "source": [
        "Сохраним результат в submit.csv, который нужно отправить на kaggle. Сделайте это!\n",
        "\n",
        "Ссылку на соревнование вы можете получить у своего куратора. "
      ]
    },
    {
      "cell_type": "code",
      "metadata": {
        "colab_type": "code",
        "id": "EWAhXZJ82_aZ",
        "colab": {}
      },
      "source": [
        "submission.to_csv('submit.csv', index=False)"
      ],
      "execution_count": 0,
      "outputs": []
    },
    {
      "cell_type": "markdown",
      "metadata": {
        "id": "v5GWJI7BuEVl",
        "colab_type": "text"
      },
      "source": [
        "### Идеи для развития и улучшения модели!\n",
        "\n",
        "1. Попробуйте в качестве модели сверточную нейронную сеть: экспериментируйте с архитектурами, алгоритмами оптимизации. \n",
        "2. Сделайте аугментацию (data augmentation) обучающей выборки. \n",
        "3. Найдите больше данных и используйте их для обучения модели! Только не забывайте о том, что распределение классов hot-dog \\ not hot-dog должно оставаться на прежнем уровне. \n",
        "4. Используйте технику transfer learning: ее идея заключается в дообучении на ваших данных модели, хорошо работающей на каком-либо датасете (в изображениях это обычно ImageNet). Стоит обратить внимание на модели семейства ResNet. \n",
        "5. Посмотрите в сторону блендинга (blending) - это способ, позволяющий объединить предсказания нескольких моделей, что в результате может вам дать более устойчивый классификатор"
      ]
    },
    {
      "cell_type": "code",
      "metadata": {
        "id": "8fEl33xPuEVm",
        "colab_type": "code",
        "colab": {}
      },
      "source": [
        "from keras.models import Sequential\n",
        "from keras.layers import Convolution2D, MaxPooling2D,  Flatten, Dropout, Dense\n",
        "from keras.preprocessing.image import ImageDataGenerator"
      ],
      "execution_count": 0,
      "outputs": []
    },
    {
      "cell_type": "code",
      "metadata": {
        "id": "7E2l4SIzuEVn",
        "colab_type": "code",
        "colab": {}
      },
      "source": [
        "from keras.models import Sequential\n",
        "from keras.layers import Convolution2D, MaxPooling2D,  Flatten, Dropout, Dense\n",
        "from keras.preprocessing.image import ImageDataGenerator\n",
        "\n",
        "model = Sequential()\n",
        "model.add(Convolution2D(64, kernel_size=3, activation='relu'))\n",
        "model.add(MaxPooling2D(pool_size=2))\n",
        "model.add(Convolution2D(32, kernel_size=3, activation='relu'))\n",
        "model.add(MaxPooling2D(pool_size=2))\n",
        "model.add(Flatten())\n",
        "model.add(Dropout(0.5))\n",
        "model.add(Dense(1, activation='sigmoid'))\n",
        "\n",
        "model.compile(optimizer='adam', class_mode=\"binary\", loss='binary_crossentropy', \n",
        "              metrics=['accuracy'])"
      ],
      "execution_count": 0,
      "outputs": []
    },
    {
      "cell_type": "code",
      "metadata": {
        "id": "Z5VCSgASuEVp",
        "colab_type": "code",
        "outputId": "bbe5ac6c-4c0f-48b2-abb1-495a3a7242cc",
        "colab": {}
      },
      "source": [
        "model.fit(X_train, y_train, batch_size=32, epochs=3)"
      ],
      "execution_count": 0,
      "outputs": [
        {
          "output_type": "stream",
          "text": [
            "W0810 13:10:47.568066 4351292864 deprecation_wrapper.py:119] From /Users/mac/anaconda3/lib/python3.7/site-packages/keras/backend/tensorflow_backend.py:517: The name tf.placeholder is deprecated. Please use tf.compat.v1.placeholder instead.\n",
            "\n",
            "W0810 13:10:47.587442 4351292864 deprecation_wrapper.py:119] From /Users/mac/anaconda3/lib/python3.7/site-packages/keras/backend/tensorflow_backend.py:4138: The name tf.random_uniform is deprecated. Please use tf.random.uniform instead.\n",
            "\n",
            "W0810 13:10:47.886719 4351292864 deprecation_wrapper.py:119] From /Users/mac/anaconda3/lib/python3.7/site-packages/keras/backend/tensorflow_backend.py:3976: The name tf.nn.max_pool is deprecated. Please use tf.nn.max_pool2d instead.\n",
            "\n",
            "W0810 13:10:47.925137 4351292864 deprecation_wrapper.py:119] From /Users/mac/anaconda3/lib/python3.7/site-packages/keras/backend/tensorflow_backend.py:133: The name tf.placeholder_with_default is deprecated. Please use tf.compat.v1.placeholder_with_default instead.\n",
            "\n",
            "W0810 13:10:47.936769 4351292864 deprecation.py:506] From /Users/mac/anaconda3/lib/python3.7/site-packages/keras/backend/tensorflow_backend.py:3445: calling dropout (from tensorflow.python.ops.nn_ops) with keep_prob is deprecated and will be removed in a future version.\n",
            "Instructions for updating:\n",
            "Please use `rate` instead of `keep_prob`. Rate should be set to `rate = 1 - keep_prob`.\n",
            "W0810 13:10:47.987802 4351292864 deprecation_wrapper.py:119] From /Users/mac/anaconda3/lib/python3.7/site-packages/keras/backend/tensorflow_backend.py:3376: The name tf.log is deprecated. Please use tf.math.log instead.\n",
            "\n",
            "W0810 13:10:47.993911 4351292864 deprecation.py:323] From /Users/mac/anaconda3/lib/python3.7/site-packages/tensorflow/python/ops/nn_impl.py:180: add_dispatch_support.<locals>.wrapper (from tensorflow.python.ops.array_ops) is deprecated and will be removed in a future version.\n",
            "Instructions for updating:\n",
            "Use tf.where in 2.0, which has the same broadcast rule as np.where\n"
          ],
          "name": "stderr"
        },
        {
          "output_type": "stream",
          "text": [
            "Epoch 1/3\n",
            "7536/7536 [==============================] - 89s 12ms/step - loss: 0.3674 - acc: 0.8755\n",
            "Epoch 2/3\n",
            "7536/7536 [==============================] - 88s 12ms/step - loss: 0.3356 - acc: 0.8799\n",
            "Epoch 3/3\n",
            "7536/7536 [==============================] - 84s 11ms/step - loss: 0.3120 - acc: 0.8884\n"
          ],
          "name": "stdout"
        },
        {
          "output_type": "execute_result",
          "data": {
            "text/plain": [
              "<keras.callbacks.History at 0x1a796ee400>"
            ]
          },
          "metadata": {
            "tags": []
          },
          "execution_count": 34
        }
      ]
    },
    {
      "cell_type": "code",
      "metadata": {
        "id": "wOEH-j8MuEVr",
        "colab_type": "code",
        "colab": {}
      },
      "source": [
        "for idx, img in enumerate(X_test):\n",
        "    if y_test[idx] == 1:\n",
        "        plt.imsave(f'validation/hot dog/{idx}', img)\n",
        "    else:\n",
        "         plt.imsave(f'validation/not hot dog/{idx}', img)\n",
        "            \n",
        "for idx, img in enumerate(X_train):\n",
        "    if y_train[idx] == 1:\n",
        "        plt.imsave(f'training/hot dog/{idx}', img)\n",
        "    else:\n",
        "         plt.imsave(f'training/not hot dog/{idx}', img)"
      ],
      "execution_count": 0,
      "outputs": []
    },
    {
      "cell_type": "code",
      "metadata": {
        "id": "8KdD-XtMuEVt",
        "colab_type": "code",
        "outputId": "676b5143-786e-4101-e027-25ab251f2c4c",
        "colab": {}
      },
      "source": [
        "batch_size = 16\n",
        "\n",
        "# this is the augmentation configuration we will use for training\n",
        "train_datagen = ImageDataGenerator(\n",
        "        rescale=1./255,\n",
        "        shear_range=0.2,\n",
        "        zoom_range=0.2,\n",
        "        horizontal_flip=True)\n",
        "\n",
        "# this is the augmentation configuration we will use for testing:\n",
        "# only rescaling\n",
        "test_datagen = ImageDataGenerator(rescale=1./255)\n",
        "\n",
        "# this is a generator that will read pictures found in\n",
        "# subfolers of 'data/train', and indefinitely generate\n",
        "# batches of augmented image data\n",
        "train_generator = train_datagen.flow_from_directory(\n",
        "        'training',  # this is the target directory\n",
        "        target_size=(100, 100),  # all images will be resized to 150x150\n",
        "        batch_size=batch_size,\n",
        "        class_mode='binary')  # since we use binary_crossentropy loss, we need binary labels\n",
        "\n",
        "# this is a similar generator, for validation data\n",
        "validation_generator = test_datagen.flow_from_directory(\n",
        "        'validation',\n",
        "        target_size=(100, 100),\n",
        "        batch_size=batch_size,\n",
        "        class_mode='binary')"
      ],
      "execution_count": 0,
      "outputs": [
        {
          "output_type": "stream",
          "text": [
            "Found 7536 images belonging to 2 classes.\n",
            "Found 2513 images belonging to 2 classes.\n"
          ],
          "name": "stdout"
        }
      ]
    },
    {
      "cell_type": "code",
      "metadata": {
        "id": "ohoM5C9WuEVw",
        "colab_type": "code",
        "outputId": "0427b0ac-8f2e-4c9d-8c2e-e9e58206c78d",
        "colab": {}
      },
      "source": [
        "model.fit_generator(\n",
        "        train_generator,\n",
        "        steps_per_epoch=2000 // batch_size,\n",
        "        epochs=50,\n",
        "        validation_data=validation_generator,\n",
        "        validation_steps=800 // batch_size)"
      ],
      "execution_count": 0,
      "outputs": [
        {
          "output_type": "stream",
          "text": [
            "Epoch 1/50\n",
            "125/125 [==============================] - 28s 227ms/step - loss: 0.4676 - acc: 0.8535 - val_loss: 0.4074 - val_acc: 0.8700\n",
            "Epoch 2/50\n",
            "125/125 [==============================] - 28s 224ms/step - loss: 0.3843 - acc: 0.8780 - val_loss: 0.3405 - val_acc: 0.8838\n",
            "Epoch 3/50\n",
            "125/125 [==============================] - 28s 228ms/step - loss: 0.3750 - acc: 0.8740 - val_loss: 0.3502 - val_acc: 0.8788\n",
            "Epoch 4/50\n",
            "125/125 [==============================] - 31s 245ms/step - loss: 0.3750 - acc: 0.8725 - val_loss: 0.3462 - val_acc: 0.8815\n",
            "Epoch 5/50\n",
            "125/125 [==============================] - 28s 224ms/step - loss: 0.3687 - acc: 0.8660 - val_loss: 0.3079 - val_acc: 0.8800\n",
            "Epoch 6/50\n",
            "125/125 [==============================] - 30s 239ms/step - loss: 0.3330 - acc: 0.8770 - val_loss: 0.2831 - val_acc: 0.8975\n",
            "Epoch 7/50\n",
            "125/125 [==============================] - 30s 244ms/step - loss: 0.3247 - acc: 0.8870 - val_loss: 0.3348 - val_acc: 0.8752\n",
            "Epoch 8/50\n",
            "125/125 [==============================] - 33s 266ms/step - loss: 0.3301 - acc: 0.8795 - val_loss: 0.3339 - val_acc: 0.8700\n",
            "Epoch 9/50\n",
            "125/125 [==============================] - 37s 296ms/step - loss: 0.3041 - acc: 0.8910 - val_loss: 0.2704 - val_acc: 0.9012\n",
            "Epoch 10/50\n",
            "125/125 [==============================] - 31s 250ms/step - loss: 0.3419 - acc: 0.8700 - val_loss: 0.2878 - val_acc: 0.9032\n",
            "Epoch 11/50\n",
            "125/125 [==============================] - 29s 230ms/step - loss: 0.3135 - acc: 0.8840 - val_loss: 0.2754 - val_acc: 0.9075\n",
            "Epoch 12/50\n",
            "125/125 [==============================] - 29s 228ms/step - loss: 0.3313 - acc: 0.8755 - val_loss: 0.3093 - val_acc: 0.8800\n",
            "Epoch 13/50\n",
            "125/125 [==============================] - 31s 249ms/step - loss: 0.2962 - acc: 0.8925 - val_loss: 0.2852 - val_acc: 0.8943\n",
            "Epoch 14/50\n",
            "125/125 [==============================] - 33s 261ms/step - loss: 0.3163 - acc: 0.8810 - val_loss: 0.3276 - val_acc: 0.8812\n",
            "Epoch 15/50\n",
            "125/125 [==============================] - 30s 244ms/step - loss: 0.2949 - acc: 0.8940 - val_loss: 0.2800 - val_acc: 0.8962\n",
            "Epoch 16/50\n",
            "125/125 [==============================] - 30s 237ms/step - loss: 0.2991 - acc: 0.8900 - val_loss: 0.2660 - val_acc: 0.9121\n",
            "Epoch 17/50\n",
            "125/125 [==============================] - 35s 280ms/step - loss: 0.2996 - acc: 0.8900 - val_loss: 0.3026 - val_acc: 0.8875\n",
            "Epoch 18/50\n",
            "125/125 [==============================] - 40s 323ms/step - loss: 0.3016 - acc: 0.8970 - val_loss: 0.2642 - val_acc: 0.9075\n",
            "Epoch 19/50\n",
            "125/125 [==============================] - 30s 237ms/step - loss: 0.3066 - acc: 0.8895 - val_loss: 0.2907 - val_acc: 0.9096\n",
            "Epoch 20/50\n",
            "125/125 [==============================] - 29s 235ms/step - loss: 0.3023 - acc: 0.8890 - val_loss: 0.3233 - val_acc: 0.8975\n",
            "Epoch 21/50\n",
            "125/125 [==============================] - 29s 233ms/step - loss: 0.3153 - acc: 0.8865 - val_loss: 0.2901 - val_acc: 0.8875\n",
            "Epoch 22/50\n",
            "125/125 [==============================] - 29s 232ms/step - loss: 0.2931 - acc: 0.8995 - val_loss: 0.2670 - val_acc: 0.9137\n",
            "Epoch 23/50\n",
            "125/125 [==============================] - 30s 241ms/step - loss: 0.2493 - acc: 0.9155 - val_loss: 0.2508 - val_acc: 0.9096\n",
            "Epoch 24/50\n",
            "125/125 [==============================] - 32s 260ms/step - loss: 0.2708 - acc: 0.9105 - val_loss: 0.3081 - val_acc: 0.8900\n",
            "Epoch 25/50\n",
            "125/125 [==============================] - 30s 236ms/step - loss: 0.3007 - acc: 0.8970 - val_loss: 0.2589 - val_acc: 0.9100\n",
            "Epoch 26/50\n",
            "125/125 [==============================] - 30s 240ms/step - loss: 0.2794 - acc: 0.9080 - val_loss: 0.2819 - val_acc: 0.8994\n",
            "Epoch 27/50\n",
            "125/125 [==============================] - 36s 284ms/step - loss: 0.2616 - acc: 0.9045 - val_loss: 0.2490 - val_acc: 0.9200\n",
            "Epoch 28/50\n",
            "125/125 [==============================] - 31s 249ms/step - loss: 0.2863 - acc: 0.8995 - val_loss: 0.2762 - val_acc: 0.9038\n",
            "Epoch 29/50\n",
            "125/125 [==============================] - 32s 253ms/step - loss: 0.2631 - acc: 0.9040 - val_loss: 0.2687 - val_acc: 0.9045\n",
            "Epoch 30/50\n",
            "125/125 [==============================] - 36s 289ms/step - loss: 0.2625 - acc: 0.9050 - val_loss: 0.2715 - val_acc: 0.9025\n",
            "Epoch 31/50\n",
            "125/125 [==============================] - 31s 250ms/step - loss: 0.2519 - acc: 0.9130 - val_loss: 0.2727 - val_acc: 0.9050\n",
            "Epoch 32/50\n",
            "125/125 [==============================] - 28s 223ms/step - loss: 0.2558 - acc: 0.9040 - val_loss: 0.2879 - val_acc: 0.8879\n",
            "Epoch 33/50\n",
            "125/125 [==============================] - 28s 222ms/step - loss: 0.2877 - acc: 0.8970 - val_loss: 0.2463 - val_acc: 0.9213\n",
            "Epoch 34/50\n",
            "125/125 [==============================] - 30s 244ms/step - loss: 0.2751 - acc: 0.8980 - val_loss: 0.3151 - val_acc: 0.8912\n",
            "Epoch 35/50\n",
            "125/125 [==============================] - 36s 286ms/step - loss: 0.2531 - acc: 0.9115 - val_loss: 0.2423 - val_acc: 0.9057\n",
            "Epoch 36/50\n",
            "125/125 [==============================] - 30s 239ms/step - loss: 0.2671 - acc: 0.9055 - val_loss: 0.3246 - val_acc: 0.8712\n",
            "Epoch 37/50\n",
            "125/125 [==============================] - 30s 237ms/step - loss: 0.2614 - acc: 0.9045 - val_loss: 0.2421 - val_acc: 0.9125\n",
            "Epoch 38/50\n",
            "125/125 [==============================] - 31s 248ms/step - loss: 0.2606 - acc: 0.9080 - val_loss: 0.2610 - val_acc: 0.9096\n",
            "Epoch 39/50\n",
            "125/125 [==============================] - 33s 266ms/step - loss: 0.2716 - acc: 0.9020 - val_loss: 0.2649 - val_acc: 0.9113\n",
            "Epoch 40/50\n",
            "125/125 [==============================] - 32s 258ms/step - loss: 0.2641 - acc: 0.9080 - val_loss: 0.2563 - val_acc: 0.9087\n",
            "Epoch 41/50\n",
            "125/125 [==============================] - 35s 283ms/step - loss: 0.2384 - acc: 0.9090 - val_loss: 0.2721 - val_acc: 0.9087\n",
            "Epoch 42/50\n",
            "125/125 [==============================] - 29s 229ms/step - loss: 0.2462 - acc: 0.9095 - val_loss: 0.2817 - val_acc: 0.8892\n",
            "Epoch 43/50\n",
            "125/125 [==============================] - 29s 236ms/step - loss: 0.2545 - acc: 0.9060 - val_loss: 0.2910 - val_acc: 0.9050\n",
            "Epoch 44/50\n",
            "125/125 [==============================] - 37s 296ms/step - loss: 0.2632 - acc: 0.9015 - val_loss: 0.2148 - val_acc: 0.9275\n",
            "Epoch 45/50\n",
            "125/125 [==============================] - 32s 260ms/step - loss: 0.2746 - acc: 0.9100 - val_loss: 0.2350 - val_acc: 0.9185\n",
            "Epoch 46/50\n",
            "125/125 [==============================] - 31s 246ms/step - loss: 0.2466 - acc: 0.9095 - val_loss: 0.2567 - val_acc: 0.9100\n",
            "Epoch 47/50\n",
            "125/125 [==============================] - 40s 322ms/step - loss: 0.2562 - acc: 0.9125 - val_loss: 0.2644 - val_acc: 0.9000\n",
            "Epoch 48/50\n",
            "125/125 [==============================] - 35s 283ms/step - loss: 0.2436 - acc: 0.9100 - val_loss: 0.2858 - val_acc: 0.8981\n",
            "Epoch 49/50\n",
            "125/125 [==============================] - 35s 278ms/step - loss: 0.2548 - acc: 0.9075 - val_loss: 0.2591 - val_acc: 0.9137\n",
            "Epoch 50/50\n",
            "125/125 [==============================] - 35s 276ms/step - loss: 0.2495 - acc: 0.9110 - val_loss: 0.2549 - val_acc: 0.9100\n"
          ],
          "name": "stdout"
        },
        {
          "output_type": "execute_result",
          "data": {
            "text/plain": [
              "<keras.callbacks.History at 0x1a74fd3390>"
            ]
          },
          "metadata": {
            "tags": []
          },
          "execution_count": 35
        }
      ]
    }
  ]
}